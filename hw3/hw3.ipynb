{
 "cells": [
  {
   "cell_type": "markdown",
   "id": "1f5735b7-935f-48c4-9019-09d82725d4fe",
   "metadata": {},
   "source": [
    "# CSE 541 HW 3\n",
    "Evan Komp"
   ]
  },
  {
   "cell_type": "code",
   "execution_count": 12,
   "id": "d9292b15-016e-42f5-b250-7a6da31b895d",
   "metadata": {},
   "outputs": [],
   "source": [
    "import numpy as np\n",
    "from mnist import MNIST\n",
    "import sklearn.preprocessing\n",
    "import sklearn.decomposition"
   ]
  },
  {
   "cell_type": "markdown",
   "id": "8be96a95-66c6-4a3a-b86e-b5f924b84efc",
   "metadata": {},
   "source": [
    "***\n",
    "## 2\n",
    "Load and contextualize the data"
   ]
  },
  {
   "cell_type": "code",
   "execution_count": 35,
   "id": "71332141-2845-44a8-bcd1-98231e7a19a2",
   "metadata": {},
   "outputs": [
    {
     "ename": "TypeError",
     "evalue": "MNIST.load_training() takes 1 positional argument but 2 were given",
     "output_type": "error",
     "traceback": [
      "\u001b[0;31m---------------------------------------------------------------------------\u001b[0m",
      "\u001b[0;31mTypeError\u001b[0m                                 Traceback (most recent call last)",
      "Input \u001b[0;32mIn [35]\u001b[0m, in \u001b[0;36m<cell line: 3>\u001b[0;34m()\u001b[0m\n\u001b[1;32m      1\u001b[0m mndata \u001b[38;5;241m=\u001b[39m MNIST(\u001b[38;5;124m'\u001b[39m\u001b[38;5;124m./data\u001b[39m\u001b[38;5;124m'\u001b[39m)\n\u001b[1;32m      2\u001b[0m \u001b[38;5;66;03m# mndata.select_emnist('balanced')\u001b[39;00m\n\u001b[0;32m----> 3\u001b[0m images, labels \u001b[38;5;241m=\u001b[39m \u001b[43mmndata\u001b[49m\u001b[38;5;241;43m.\u001b[39;49m\u001b[43mload_training\u001b[49m\u001b[43m(\u001b[49m\u001b[38;5;124;43m'\u001b[39;49m\u001b[38;5;124;43mbalanced\u001b[39;49m\u001b[38;5;124;43m'\u001b[39;49m\u001b[43m)\u001b[49m\n",
      "\u001b[0;31mTypeError\u001b[0m: MNIST.load_training() takes 1 positional argument but 2 were given"
     ]
    }
   ],
   "source": [
    "mndata = MNIST('./data')\n",
    "# mndata.select_emnist('balanced')\n",
    "images, labels = mndata.load_training('balanced')"
   ]
  },
  {
   "cell_type": "code",
   "execution_count": 26,
   "id": "cd4d7d0b-1af9-4d65-8f5f-f7c9ed595f19",
   "metadata": {},
   "outputs": [],
   "source": [
    "images = np.array(images)\n",
    "y = np.array(labels)"
   ]
  },
  {
   "cell_type": "code",
   "execution_count": 27,
   "id": "72be6bdf-dc01-4619-9426-1017c97fe677",
   "metadata": {},
   "outputs": [],
   "source": [
    "#normalize images\n",
    "C = images/255"
   ]
  },
  {
   "cell_type": "code",
   "execution_count": 29,
   "id": "29b036a3-76aa-4ae8-aeba-0c74f637e9a6",
   "metadata": {},
   "outputs": [],
   "source": [
    "# PCA to d\n",
    "d = 10\n",
    "pca = sklearn.decomposition.PCA(10)\n",
    "C = pca.fit_transform(C)"
   ]
  },
  {
   "cell_type": "code",
   "execution_count": 30,
   "id": "ba012b6a-47cd-437b-9119-fcfe99f00eb9",
   "metadata": {},
   "outputs": [],
   "source": [
    "# function to map context and action to features\n",
    "n=10\n",
    "def phi(c, i, n=n):\n",
    "    out = np.zeros((n, c.size))\n",
    "    out[i] = c\n",
    "    return out.flatten()"
   ]
  },
  {
   "cell_type": "code",
   "execution_count": 33,
   "id": "91424e46-465c-4b29-ab98-627199499fa7",
   "metadata": {},
   "outputs": [
    {
     "data": {
      "text/plain": [
       "(array([0, 1, 2, 3, 4, 5, 6, 7, 8, 9], dtype=uint8),\n",
       " array([5923, 6742, 5958, 6131, 5842, 5421, 5918, 6265, 5851, 5949]))"
      ]
     },
     "execution_count": 33,
     "metadata": {},
     "output_type": "execute_result"
    }
   ],
   "source": [
    "np.unique(y, return_counts=True)"
   ]
  },
  {
   "cell_type": "code",
   "execution_count": null,
   "id": "bfabbe28-7c08-4159-bf21-6aa36e922a91",
   "metadata": {},
   "outputs": [],
   "source": []
  }
 ],
 "metadata": {
  "kernelspec": {
   "display_name": "Python 3 (ipykernel)",
   "language": "python",
   "name": "python3"
  },
  "language_info": {
   "codemirror_mode": {
    "name": "ipython",
    "version": 3
   },
   "file_extension": ".py",
   "mimetype": "text/x-python",
   "name": "python",
   "nbconvert_exporter": "python",
   "pygments_lexer": "ipython3",
   "version": "3.10.0"
  }
 },
 "nbformat": 4,
 "nbformat_minor": 5
}
