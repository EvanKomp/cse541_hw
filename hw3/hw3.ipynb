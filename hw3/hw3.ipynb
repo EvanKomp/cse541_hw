{
 "cells": [
  {
   "cell_type": "markdown",
   "id": "1f5735b7-935f-48c4-9019-09d82725d4fe",
   "metadata": {},
   "source": [
    "# CSE 541 HW 3\n",
    "Evan Komp"
   ]
  },
  {
   "cell_type": "code",
   "execution_count": 1,
   "id": "d9292b15-016e-42f5-b250-7a6da31b895d",
   "metadata": {},
   "outputs": [],
   "source": [
    "import numpy as np\n",
    "from mnist import MNIST"
   ]
  },
  {
   "cell_type": "markdown",
   "id": "8be96a95-66c6-4a3a-b86e-b5f924b84efc",
   "metadata": {},
   "source": [
    "***\n",
    "## 2\n",
    "Load and contextualize the data"
   ]
  },
  {
   "cell_type": "code",
   "execution_count": 2,
   "id": "71332141-2845-44a8-bcd1-98231e7a19a2",
   "metadata": {},
   "outputs": [
    {
     "name": "stderr",
     "output_type": "stream",
     "text": [
      "/opt/anaconda3/envs/cse541/lib/python3.10/site-packages/mnist/loader.py:179: SyntaxWarning: \"is\" with a literal. Did you mean \"==\"?\n",
      "  if self.return_type is 'lists':\n",
      "/opt/anaconda3/envs/cse541/lib/python3.10/site-packages/mnist/loader.py:181: SyntaxWarning: \"is\" with a literal. Did you mean \"==\"?\n",
      "  elif self.return_type is 'numpy':\n",
      "/opt/anaconda3/envs/cse541/lib/python3.10/site-packages/mnist/loader.py:187: SyntaxWarning: \"is\" with a literal. Did you mean \"==\"?\n",
      "  if self.return_type is 'lists':\n",
      "/opt/anaconda3/envs/cse541/lib/python3.10/site-packages/mnist/loader.py:189: SyntaxWarning: \"is\" with a literal. Did you mean \"==\"?\n",
      "  elif self.return_type is 'numpy':\n",
      "/opt/anaconda3/envs/cse541/lib/python3.10/site-packages/mnist/loader.py:243: SyntaxWarning: \"is not\" with a literal. Did you mean \"!=\"?\n",
      "  if type(batch) is not list or len(batch) is not 2:\n",
      "/opt/anaconda3/envs/cse541/lib/python3.10/site-packages/mnist/loader.py:179: SyntaxWarning: \"is\" with a literal. Did you mean \"==\"?\n",
      "  if self.return_type is 'lists':\n",
      "/opt/anaconda3/envs/cse541/lib/python3.10/site-packages/mnist/loader.py:181: SyntaxWarning: \"is\" with a literal. Did you mean \"==\"?\n",
      "  elif self.return_type is 'numpy':\n",
      "/opt/anaconda3/envs/cse541/lib/python3.10/site-packages/mnist/loader.py:187: SyntaxWarning: \"is\" with a literal. Did you mean \"==\"?\n",
      "  if self.return_type is 'lists':\n",
      "/opt/anaconda3/envs/cse541/lib/python3.10/site-packages/mnist/loader.py:189: SyntaxWarning: \"is\" with a literal. Did you mean \"==\"?\n",
      "  elif self.return_type is 'numpy':\n",
      "/opt/anaconda3/envs/cse541/lib/python3.10/site-packages/mnist/loader.py:243: SyntaxWarning: \"is not\" with a literal. Did you mean \"!=\"?\n",
      "  if type(batch) is not list or len(batch) is not 2:\n",
      "/opt/anaconda3/envs/cse541/lib/python3.10/site-packages/mnist/loader.py:179: SyntaxWarning: \"is\" with a literal. Did you mean \"==\"?\n",
      "  if self.return_type is 'lists':\n",
      "/opt/anaconda3/envs/cse541/lib/python3.10/site-packages/mnist/loader.py:181: SyntaxWarning: \"is\" with a literal. Did you mean \"==\"?\n",
      "  elif self.return_type is 'numpy':\n",
      "/opt/anaconda3/envs/cse541/lib/python3.10/site-packages/mnist/loader.py:187: SyntaxWarning: \"is\" with a literal. Did you mean \"==\"?\n",
      "  if self.return_type is 'lists':\n",
      "/opt/anaconda3/envs/cse541/lib/python3.10/site-packages/mnist/loader.py:189: SyntaxWarning: \"is\" with a literal. Did you mean \"==\"?\n",
      "  elif self.return_type is 'numpy':\n",
      "/opt/anaconda3/envs/cse541/lib/python3.10/site-packages/mnist/loader.py:243: SyntaxWarning: \"is not\" with a literal. Did you mean \"!=\"?\n",
      "  if type(batch) is not list or len(batch) is not 2:\n",
      "/opt/anaconda3/envs/cse541/lib/python3.10/site-packages/mnist/loader.py:179: SyntaxWarning: \"is\" with a literal. Did you mean \"==\"?\n",
      "  if self.return_type is 'lists':\n",
      "/opt/anaconda3/envs/cse541/lib/python3.10/site-packages/mnist/loader.py:181: SyntaxWarning: \"is\" with a literal. Did you mean \"==\"?\n",
      "  elif self.return_type is 'numpy':\n",
      "/opt/anaconda3/envs/cse541/lib/python3.10/site-packages/mnist/loader.py:187: SyntaxWarning: \"is\" with a literal. Did you mean \"==\"?\n",
      "  if self.return_type is 'lists':\n",
      "/opt/anaconda3/envs/cse541/lib/python3.10/site-packages/mnist/loader.py:189: SyntaxWarning: \"is\" with a literal. Did you mean \"==\"?\n",
      "  elif self.return_type is 'numpy':\n",
      "/opt/anaconda3/envs/cse541/lib/python3.10/site-packages/mnist/loader.py:243: SyntaxWarning: \"is not\" with a literal. Did you mean \"!=\"?\n",
      "  if type(batch) is not list or len(batch) is not 2:\n",
      "/opt/anaconda3/envs/cse541/lib/python3.10/site-packages/mnist/loader.py:179: SyntaxWarning: \"is\" with a literal. Did you mean \"==\"?\n",
      "  if self.return_type is 'lists':\n",
      "/opt/anaconda3/envs/cse541/lib/python3.10/site-packages/mnist/loader.py:181: SyntaxWarning: \"is\" with a literal. Did you mean \"==\"?\n",
      "  elif self.return_type is 'numpy':\n",
      "/opt/anaconda3/envs/cse541/lib/python3.10/site-packages/mnist/loader.py:187: SyntaxWarning: \"is\" with a literal. Did you mean \"==\"?\n",
      "  if self.return_type is 'lists':\n",
      "/opt/anaconda3/envs/cse541/lib/python3.10/site-packages/mnist/loader.py:189: SyntaxWarning: \"is\" with a literal. Did you mean \"==\"?\n",
      "  elif self.return_type is 'numpy':\n",
      "/opt/anaconda3/envs/cse541/lib/python3.10/site-packages/mnist/loader.py:243: SyntaxWarning: \"is not\" with a literal. Did you mean \"!=\"?\n",
      "  if type(batch) is not list or len(batch) is not 2:\n",
      "/opt/anaconda3/envs/cse541/lib/python3.10/site-packages/mnist/loader.py:179: SyntaxWarning: \"is\" with a literal. Did you mean \"==\"?\n",
      "  if self.return_type is 'lists':\n",
      "/opt/anaconda3/envs/cse541/lib/python3.10/site-packages/mnist/loader.py:181: SyntaxWarning: \"is\" with a literal. Did you mean \"==\"?\n",
      "  elif self.return_type is 'numpy':\n",
      "/opt/anaconda3/envs/cse541/lib/python3.10/site-packages/mnist/loader.py:187: SyntaxWarning: \"is\" with a literal. Did you mean \"==\"?\n",
      "  if self.return_type is 'lists':\n",
      "/opt/anaconda3/envs/cse541/lib/python3.10/site-packages/mnist/loader.py:189: SyntaxWarning: \"is\" with a literal. Did you mean \"==\"?\n",
      "  elif self.return_type is 'numpy':\n",
      "/opt/anaconda3/envs/cse541/lib/python3.10/site-packages/mnist/loader.py:243: SyntaxWarning: \"is not\" with a literal. Did you mean \"!=\"?\n",
      "  if type(batch) is not list or len(batch) is not 2:\n",
      "/opt/anaconda3/envs/cse541/lib/python3.10/site-packages/mnist/loader.py:179: SyntaxWarning: \"is\" with a literal. Did you mean \"==\"?\n",
      "  if self.return_type is 'lists':\n",
      "/opt/anaconda3/envs/cse541/lib/python3.10/site-packages/mnist/loader.py:181: SyntaxWarning: \"is\" with a literal. Did you mean \"==\"?\n",
      "  elif self.return_type is 'numpy':\n",
      "/opt/anaconda3/envs/cse541/lib/python3.10/site-packages/mnist/loader.py:187: SyntaxWarning: \"is\" with a literal. Did you mean \"==\"?\n",
      "  if self.return_type is 'lists':\n",
      "/opt/anaconda3/envs/cse541/lib/python3.10/site-packages/mnist/loader.py:189: SyntaxWarning: \"is\" with a literal. Did you mean \"==\"?\n",
      "  elif self.return_type is 'numpy':\n",
      "/opt/anaconda3/envs/cse541/lib/python3.10/site-packages/mnist/loader.py:243: SyntaxWarning: \"is not\" with a literal. Did you mean \"!=\"?\n",
      "  if type(batch) is not list or len(batch) is not 2:\n",
      "/opt/anaconda3/envs/cse541/lib/python3.10/site-packages/mnist/loader.py:179: SyntaxWarning: \"is\" with a literal. Did you mean \"==\"?\n",
      "  if self.return_type is 'lists':\n",
      "/opt/anaconda3/envs/cse541/lib/python3.10/site-packages/mnist/loader.py:181: SyntaxWarning: \"is\" with a literal. Did you mean \"==\"?\n",
      "  elif self.return_type is 'numpy':\n",
      "/opt/anaconda3/envs/cse541/lib/python3.10/site-packages/mnist/loader.py:187: SyntaxWarning: \"is\" with a literal. Did you mean \"==\"?\n",
      "  if self.return_type is 'lists':\n",
      "/opt/anaconda3/envs/cse541/lib/python3.10/site-packages/mnist/loader.py:189: SyntaxWarning: \"is\" with a literal. Did you mean \"==\"?\n",
      "  elif self.return_type is 'numpy':\n",
      "/opt/anaconda3/envs/cse541/lib/python3.10/site-packages/mnist/loader.py:243: SyntaxWarning: \"is not\" with a literal. Did you mean \"!=\"?\n",
      "  if type(batch) is not list or len(batch) is not 2:\n"
     ]
    },
    {
     "ename": "FileNotFoundError",
     "evalue": "[Errno 2] No such file or directory: './dir_with_mnist_data_files/train-labels-idx1-ubyte'",
     "output_type": "error",
     "traceback": [
      "\u001b[0;31m---------------------------------------------------------------------------\u001b[0m",
      "\u001b[0;31mFileNotFoundError\u001b[0m                         Traceback (most recent call last)",
      "Input \u001b[0;32mIn [2]\u001b[0m, in \u001b[0;36m<cell line: 2>\u001b[0;34m()\u001b[0m\n\u001b[1;32m      1\u001b[0m mndata \u001b[38;5;241m=\u001b[39m MNIST(\u001b[38;5;124m'\u001b[39m\u001b[38;5;124m./dir_with_mnist_data_files\u001b[39m\u001b[38;5;124m'\u001b[39m)\n\u001b[0;32m----> 2\u001b[0m images, labels \u001b[38;5;241m=\u001b[39m \u001b[43mmndata\u001b[49m\u001b[38;5;241;43m.\u001b[39;49m\u001b[43mload_training\u001b[49m\u001b[43m(\u001b[49m\u001b[43m)\u001b[49m\n",
      "File \u001b[0;32m/opt/anaconda3/envs/cse541/lib/python3.10/site-packages/mnist/loader.py:125\u001b[0m, in \u001b[0;36mMNIST.load_training\u001b[0;34m(self)\u001b[0m\n\u001b[1;32m    124\u001b[0m \u001b[38;5;28;01mdef\u001b[39;00m \u001b[38;5;21mload_training\u001b[39m(\u001b[38;5;28mself\u001b[39m):\n\u001b[0;32m--> 125\u001b[0m     ims, labels \u001b[38;5;241m=\u001b[39m \u001b[38;5;28;43mself\u001b[39;49m\u001b[38;5;241;43m.\u001b[39;49m\u001b[43mload\u001b[49m\u001b[43m(\u001b[49m\u001b[43mos\u001b[49m\u001b[38;5;241;43m.\u001b[39;49m\u001b[43mpath\u001b[49m\u001b[38;5;241;43m.\u001b[39;49m\u001b[43mjoin\u001b[49m\u001b[43m(\u001b[49m\u001b[38;5;28;43mself\u001b[39;49m\u001b[38;5;241;43m.\u001b[39;49m\u001b[43mpath\u001b[49m\u001b[43m,\u001b[49m\u001b[43m \u001b[49m\u001b[38;5;28;43mself\u001b[39;49m\u001b[38;5;241;43m.\u001b[39;49m\u001b[43mtrain_img_fname\u001b[49m\u001b[43m)\u001b[49m\u001b[43m,\u001b[49m\n\u001b[1;32m    126\u001b[0m \u001b[43m                            \u001b[49m\u001b[43mos\u001b[49m\u001b[38;5;241;43m.\u001b[39;49m\u001b[43mpath\u001b[49m\u001b[38;5;241;43m.\u001b[39;49m\u001b[43mjoin\u001b[49m\u001b[43m(\u001b[49m\u001b[38;5;28;43mself\u001b[39;49m\u001b[38;5;241;43m.\u001b[39;49m\u001b[43mpath\u001b[49m\u001b[43m,\u001b[49m\u001b[43m \u001b[49m\u001b[38;5;28;43mself\u001b[39;49m\u001b[38;5;241;43m.\u001b[39;49m\u001b[43mtrain_lbl_fname\u001b[49m\u001b[43m)\u001b[49m\u001b[43m)\u001b[49m\n\u001b[1;32m    128\u001b[0m     \u001b[38;5;28mself\u001b[39m\u001b[38;5;241m.\u001b[39mtrain_images \u001b[38;5;241m=\u001b[39m \u001b[38;5;28mself\u001b[39m\u001b[38;5;241m.\u001b[39mprocess_images(ims)\n\u001b[1;32m    129\u001b[0m     \u001b[38;5;28mself\u001b[39m\u001b[38;5;241m.\u001b[39mtrain_labels \u001b[38;5;241m=\u001b[39m \u001b[38;5;28mself\u001b[39m\u001b[38;5;241m.\u001b[39mprocess_labels(labels)\n",
      "File \u001b[0;32m/opt/anaconda3/envs/cse541/lib/python3.10/site-packages/mnist/loader.py:247\u001b[0m, in \u001b[0;36mMNIST.load\u001b[0;34m(self, path_img, path_lbl, batch)\u001b[0m\n\u001b[1;32m    243\u001b[0m     \u001b[38;5;28;01mif\u001b[39;00m \u001b[38;5;28mtype\u001b[39m(batch) \u001b[38;5;129;01mis\u001b[39;00m \u001b[38;5;129;01mnot\u001b[39;00m \u001b[38;5;28mlist\u001b[39m \u001b[38;5;129;01mor\u001b[39;00m \u001b[38;5;28mlen\u001b[39m(batch) \u001b[38;5;129;01mis\u001b[39;00m \u001b[38;5;129;01mnot\u001b[39;00m \u001b[38;5;241m2\u001b[39m:\n\u001b[1;32m    244\u001b[0m         \u001b[38;5;28;01mraise\u001b[39;00m \u001b[38;5;167;01mValueError\u001b[39;00m(\u001b[38;5;124m'\u001b[39m\u001b[38;5;124mbatch should be a 1-D list\u001b[39m\u001b[38;5;124m'\u001b[39m\n\u001b[1;32m    245\u001b[0m                          \u001b[38;5;124m'\u001b[39m\u001b[38;5;124m(start_point, batch_size)\u001b[39m\u001b[38;5;124m'\u001b[39m)\n\u001b[0;32m--> 247\u001b[0m \u001b[38;5;28;01mwith\u001b[39;00m \u001b[38;5;28;43mself\u001b[39;49m\u001b[38;5;241;43m.\u001b[39;49m\u001b[43mopener\u001b[49m\u001b[43m(\u001b[49m\u001b[43mpath_lbl\u001b[49m\u001b[43m,\u001b[49m\u001b[43m \u001b[49m\u001b[38;5;124;43m'\u001b[39;49m\u001b[38;5;124;43mrb\u001b[39;49m\u001b[38;5;124;43m'\u001b[39;49m\u001b[43m)\u001b[49m \u001b[38;5;28;01mas\u001b[39;00m file:\n\u001b[1;32m    248\u001b[0m     magic, size \u001b[38;5;241m=\u001b[39m struct\u001b[38;5;241m.\u001b[39munpack(\u001b[38;5;124m\"\u001b[39m\u001b[38;5;124m>II\u001b[39m\u001b[38;5;124m\"\u001b[39m, file\u001b[38;5;241m.\u001b[39mread(\u001b[38;5;241m8\u001b[39m))\n\u001b[1;32m    249\u001b[0m     \u001b[38;5;28;01mif\u001b[39;00m magic \u001b[38;5;241m!=\u001b[39m \u001b[38;5;241m2049\u001b[39m:\n",
      "File \u001b[0;32m/opt/anaconda3/envs/cse541/lib/python3.10/site-packages/mnist/loader.py:239\u001b[0m, in \u001b[0;36mMNIST.opener\u001b[0;34m(self, path_fn, *args, **kwargs)\u001b[0m\n\u001b[1;32m    237\u001b[0m     \u001b[38;5;28;01mreturn\u001b[39;00m gzip\u001b[38;5;241m.\u001b[39mopen(path_fn \u001b[38;5;241m+\u001b[39m \u001b[38;5;124m'\u001b[39m\u001b[38;5;124m.gz\u001b[39m\u001b[38;5;124m'\u001b[39m, \u001b[38;5;241m*\u001b[39margs, \u001b[38;5;241m*\u001b[39m\u001b[38;5;241m*\u001b[39mkwargs)\n\u001b[1;32m    238\u001b[0m \u001b[38;5;28;01melse\u001b[39;00m:\n\u001b[0;32m--> 239\u001b[0m     \u001b[38;5;28;01mreturn\u001b[39;00m \u001b[38;5;28;43mopen\u001b[39;49m\u001b[43m(\u001b[49m\u001b[43mpath_fn\u001b[49m\u001b[43m,\u001b[49m\u001b[43m \u001b[49m\u001b[38;5;241;43m*\u001b[39;49m\u001b[43margs\u001b[49m\u001b[43m,\u001b[49m\u001b[43m \u001b[49m\u001b[38;5;241;43m*\u001b[39;49m\u001b[38;5;241;43m*\u001b[39;49m\u001b[43mkwargs\u001b[49m\u001b[43m)\u001b[49m\n",
      "\u001b[0;31mFileNotFoundError\u001b[0m: [Errno 2] No such file or directory: './dir_with_mnist_data_files/train-labels-idx1-ubyte'"
     ]
    }
   ],
   "source": [
    "mndata = MNIST('./dir_with_mnist_data_files')\n",
    "images, labels = mndata.load_training()"
   ]
  },
  {
   "cell_type": "code",
   "execution_count": null,
   "id": "cd4d7d0b-1af9-4d65-8f5f-f7c9ed595f19",
   "metadata": {},
   "outputs": [],
   "source": []
  }
 ],
 "metadata": {
  "kernelspec": {
   "display_name": "Python 3 (ipykernel)",
   "language": "python",
   "name": "python3"
  },
  "language_info": {
   "codemirror_mode": {
    "name": "ipython",
    "version": 3
   },
   "file_extension": ".py",
   "mimetype": "text/x-python",
   "name": "python",
   "nbconvert_exporter": "python",
   "pygments_lexer": "ipython3",
   "version": "3.10.0"
  }
 },
 "nbformat": 4,
 "nbformat_minor": 5
}
