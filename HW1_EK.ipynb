{
 "cells": [
  {
   "cell_type": "markdown",
   "metadata": {},
   "source": [
    "# CSE 541 Homework 1\n",
    "Evan Komp\n",
    "***\n",
    "***"
   ]
  },
  {
   "cell_type": "markdown",
   "metadata": {},
   "source": [
    "## Probability"
   ]
  },
  {
   "cell_type": "markdown",
   "metadata": {},
   "source": [
    "### 1.1\n",
    "Prove Markov's inequality eg $P(X > \\lambda)\\le \\mathbb{E}(X)/\\lambda$"
   ]
  },
  {
   "cell_type": "markdown",
   "metadata": {},
   "source": [
    "By definition of the expected value, for a positive random variable $X$:\n",
    "\n",
    "$$\\mathbb{E}(X) = \\int_0^\\inf xf(x)dx$$\n",
    "\n",
    "Due to the law of total probability, $f(x)\\ge 0$:\n",
    "\n",
    "$$\\ge \\int_\\lambda^\\inf xf(x)dx$$\n",
    "\n",
    "Given that $X$ is real, positive, and greater than lambda:\n",
    "\n",
    "$$\\ge \\lambda\\int_\\lambda^\\inf f(x)dx$$\n",
    "\n",
    "By definition of the cummaltive distributio. function\n",
    "> $$\\ge \\lambda P(X>\\lambda)$$"
   ]
  },
  {
   "cell_type": "markdown",
   "metadata": {},
   "source": [
    "### 1.2"
   ]
  },
  {
   "cell_type": "markdown",
   "metadata": {},
   "source": [
    "We have a random vector $X\\in \\mathbb{R}^d$ with convex function $\\phi: \\mathbb{R}^d \\rightarrow \\mathbb{R}$. Show for discrete $X$ that $\\phi(\\mathbb{E}(X)) \\le \\mathbb{E}(\\phi(X))$"
   ]
  },
  {
   "cell_type": "markdown",
   "metadata": {},
   "source": [
    "We have the definition of convexity for $x_i\\in X$: $\\phi(tx_i+(1-t)x_j)\\le t\\phi(x_i)+(1-t)\\phi(x_j)$"
   ]
  },
  {
   "cell_type": "markdown",
   "metadata": {},
   "source": [
    "Our expected value $\\mathbb{E}(X)=\\Sigma_i^n x_i p(x_i)$"
   ]
  },
  {
   "cell_type": "markdown",
   "metadata": {},
   "source": [
    "Due to the law of total probability:\n",
    "$$\\phi(\\Sigma_{i=1}^nx_ip(x_i)) = \\phi(x_1p(x_1)+(1-p(x_1))\\frac{\\Sigma_{i=2}^nx_ip(x_i)}{\\Sigma_{i=2}^np(x_i)})$$\n",
    "\n",
    "Given that the function is convex:\n",
    "\n",
    "$$\\le p(x_1)\\phi(x_1)+(1-p(x_1))\\phi(\\frac{\\Sigma_{i=2}^nx_ip(x_i)}{\\Sigma_{i=2}^np(x_i)})$$\n",
    "\n",
    "Given that the function maps a vector of length d to a scalar, we have the scalar denominator as independant:\n",
    "$$\\le x_1p(x_1)+\\frac{1-p(x_1)}{\\Sigma_{i=2}^np(x_i)}\\Sigma_{i=2}^nx_ip(x_i) = x_1p(x_1)+\\Sigma_{i=2}^nx_ip(x_i)$$\n",
    "\n",
    "Repeating n times yields:\n",
    "\n",
    ">$$\\phi(\\mathbb{E}(X))\\le \\phi(x_1)p(x_1)+,...,+x_np(x_n) = \\mathbb{E}(\\phi(X))$$"
   ]
  },
  {
   "cell_type": "markdown",
   "metadata": {},
   "source": [
    "### 1.3\n",
    "\n",
    "If $X_i$ are independant random sub gaussian variables with $\\mathbb{E}[\\exp(\\lambda(X_i - \\mathbb{E}(X_i)))]\\le \\exp(\\lambda^2\\sigma^2/2)$ for $\\lambda \\gt 0$, and $Z=\\Sigma X_i$\n",
    "\n",
    "By identity:\n",
    "$$\\mathbb{E}[\\exp(\\lambda(Z-a))] = \\mathbb{E}[\\Pi_i\\exp(\\lambda X_i)\\exp(-\\lambda a)]=\\exp(\\lambda(\\Sigma_i\\mathbb{E}(X_i)-a))\\mathbb{E}[\\Pi_i\\exp(\\lambda( X_i-\\mathbb{E}(X_i)))]$$\n",
    "\n",
    "By independant random variables:\n",
    "$$=\\exp(\\lambda(\\Sigma_i\\mathbb{E}(X_i)-a))\\Pi_i\\mathbb{E}[\\exp(\\lambda( X_i-\\mathbb{E}(X_i)))]$$\n",
    "\n",
    "By each being sub gaussian:\n",
    "$$\\le \\exp(\\lambda(\\Sigma_i\\mathbb{E}(X_i)-a))\\Pi_i \\exp(\\lambda^2\\sigma_i^2/2)$$\n",
    "\n",
    "So our target bound becomes: \n",
    "$$\\exp(\\lambda(\\Sigma_i\\mathbb{E}(X_i)-a))\\Pi_i \\exp(\\lambda^2\\sigma_i^2/2)\\le \\exp(\\lambda^2b/2)$$\n",
    "\n",
    "Taking the log and simplifying:\n",
    "$$\\lambda\\frac{b-\\Sigma\\sigma_i^2}{2} - \\Sigma\\mathbb{E}(X_i)+a \\le 0$$\n",
    "\n",
    "This must be true for all $\\lambda > 0$, thus taking $\\lim_{\\lambda\\rightarrow 0}$ yields:\n",
    "\n",
    "$$a \\le \\Sigma\\mathbb{E}(X_i)$$\n",
    "$$b \\ge\\frac{\\Sigma\\mathbb{E}(X_i)-a}{\\lambda}2+\\Sigma\\sigma_i^2$$"
   ]
  },
  {
   "cell_type": "markdown",
   "metadata": {},
   "source": [
    "### 1.4\n",
    "If $X_i$ with $i=1,...,n$ be a sub gaussian random variable with $\\mathbb{E}(\\exp(\\lambda X_i))\\le \\exp(\\sigma_i^2\\lambda^2/2)$ what is the upper bound on $\\mathbb{E}(\\max_iX_i)$"
   ]
  },
  {
   "cell_type": "markdown",
   "metadata": {},
   "source": [
    "Starting from the identity given as a hint:\n",
    "$$\\mathbb{E}(\\max_iX_i)=\\frac{1}{\\lambda}\\ln(\\exp(\\lambda\\mathbb{E}[\\max_iX_i]))$$\n",
    "\n",
    "And by Jensen's inequality on the exponentiation function:\n",
    "$$\\le \\frac{1}{\\lambda}\\ln(\\mathbb{E}[\\exp(\\lambda\\max_iX_i)])$$\n",
    "\n",
    "The max cannot be more than the sum:\n",
    "$$\\le \\frac{1}{\\lambda}\\ln(\\mathbb{E}[\\exp(\\lambda\\Sigma_iX_i)]) = \\frac{1}{\\lambda}\\ln(\\mathbb{E}[\\Pi_i\\exp(\\lambda X_i)])$$\n",
    "\n",
    "Independance:\n",
    "$$= \\frac{1}{\\lambda}\\ln(\\Pi_i\\mathbb{E}[\\exp(\\lambda X_i)])$$\n",
    "\n",
    "Sub Gaussian:\n",
    "$$\\le \\frac{1}{\\lambda}\\ln(\\Pi_i\\exp(\\sigma_i^2\\lambda^2/2))$$\n",
    "\n",
    "A product of n numbers is at most the product of the maximum number n times:\n",
    "$$\\le \\frac{1}{\\lambda}\\ln(n\\exp(\\max_i\\sigma_i^2\\lambda^2/2))$$\n",
    "$$=\\frac{\\ln(n)}{\\lambda}+\\max_i\\sigma_i^2\\lambda/2$$\n",
    "\n",
    "Minimize w.r.t $\\lambda$:\n",
    "$$\\lambda \\ge \\sqrt{\\frac{\\ln(n)2}{\\max_i\\sigma_i^2}}$$\n",
    "\n",
    "Thus:\n",
    "$$\\mathbb{E}(max_iX_i) \\le \\sqrt{2\\max_i\\sigma_i^2\\ln(n)}$$"
   ]
  },
  {
   "cell_type": "markdown",
   "metadata": {},
   "source": [
    "***\n",
    "## Upper Confidence Bound Algortithm"
   ]
  },
  {
   "cell_type": "markdown",
   "metadata": {},
   "source": [
    "### 2.1"
   ]
  },
  {
   "cell_type": "code",
   "execution_count": null,
   "metadata": {},
   "outputs": [],
   "source": []
  }
 ],
 "metadata": {
  "kernelspec": {
   "display_name": "Python 3",
   "language": "python",
   "name": "python3"
  },
  "language_info": {
   "codemirror_mode": {
    "name": "ipython",
    "version": 3
   },
   "file_extension": ".py",
   "mimetype": "text/x-python",
   "name": "python",
   "nbconvert_exporter": "python",
   "pygments_lexer": "ipython3",
   "version": "3.6.10"
  }
 },
 "nbformat": 4,
 "nbformat_minor": 4
}
